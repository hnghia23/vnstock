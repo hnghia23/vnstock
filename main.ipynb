{
 "cells": [
  {
   "cell_type": "code",
   "execution_count": 13,
   "id": "1f1a4ac0",
   "metadata": {},
   "outputs": [],
   "source": [
    "from datetime import datetime \n",
    "import time\n"
   ]
  },
  {
   "cell_type": "code",
   "execution_count": null,
   "id": "ebb35a82",
   "metadata": {},
   "outputs": [
    {
     "name": "stdout",
     "output_type": "stream",
     "text": [
      "New minute detected: 30\n",
      "New minute detected: 31\n"
     ]
    },
    {
     "ename": "KeyboardInterrupt",
     "evalue": "",
     "output_type": "error",
     "traceback": [
      "\u001b[31m---------------------------------------------------------------------------\u001b[39m",
      "\u001b[31mKeyboardInterrupt\u001b[39m                         Traceback (most recent call last)",
      "\u001b[36mCell\u001b[39m\u001b[36m \u001b[39m\u001b[32mIn[14]\u001b[39m\u001b[32m, line 4\u001b[39m\n\u001b[32m      1\u001b[39m \u001b[38;5;66;03m# Initialize the previous minute\u001b[39;00m\n\u001b[32m      2\u001b[39m previous_minute = datetime.now().minute\n\u001b[32m----> \u001b[39m\u001b[32m4\u001b[39m \u001b[38;5;28;01mwhile\u001b[39;00m \u001b[38;5;28;01mTrue\u001b[39;00m:\n\u001b[32m      5\u001b[39m     \u001b[38;5;66;03m# Get the current minute\u001b[39;00m\n\u001b[32m      6\u001b[39m     current_minute = datetime.now().minute\n\u001b[32m      8\u001b[39m     \u001b[38;5;66;03m# Check if the minute has changed\u001b[39;00m\n",
      "\u001b[31mKeyboardInterrupt\u001b[39m: "
     ]
    }
   ],
   "source": [
    "\n",
    "# Initialize the previous minute\n",
    "previous_minute = datetime.now().minute\n",
    "\n",
    "while True:\n",
    "    # Get the current minute\n",
    "    current_minute = datetime.now().minute\n",
    "    \n",
    "    # Check if the minute has changed\n",
    "    if current_minute != previous_minute:\n",
    "        print(f\"New minute detected: {current_minute}\")\n",
    "        previous_minute = current_minute"
   ]
  },
  {
   "cell_type": "code",
   "execution_count": 24,
   "id": "b658063e",
   "metadata": {},
   "outputs": [],
   "source": [
    "from vnstock import Quote\n",
    "\n",
    "import pandas as pd"
   ]
  },
  {
   "cell_type": "code",
   "execution_count": 29,
   "id": "67ecaaa5",
   "metadata": {},
   "outputs": [
    {
     "name": "stdout",
     "output_type": "stream",
     "text": [
      "Trích xuất dữ liệu thành công.\n"
     ]
    }
   ],
   "source": [
    "quote = Quote(symbol='VCI', source='VCI')\n",
    "\n",
    "try:\n",
    "    df = quote.history(start='2020-01-01',\n",
    "                        end='2025-10-05')\n",
    "    \n",
    "    print(\"Trích xuất dữ liệu thành công.\")\n",
    "\n",
    "except (ValueError, RetryError):\n",
    "    print(f\"Không tìm thấy dữ liệu cho VCI.\")\n",
    "    # tạo DataFrame rỗng có cấu trúc chuẩn\n",
    "    df = pd.DataFrame(columns=[\"time\", \"open\", \"high\", \"low\", \"close\", \"volume\"])\n",
    "\n",
    "df.to_csv(\"batch_pipeline/storage/VCI.csv\")\n"
   ]
  },
  {
   "cell_type": "code",
   "execution_count": 31,
   "id": "dd6825ae",
   "metadata": {},
   "outputs": [],
   "source": [
    "import ta\n",
    "\n",
    "df['SMA_20'] = ta.trend.sma_indicator(df['close'], window=20).round(4)\n",
    "df['EMA_20'] = ta.trend.ema_indicator(df['close'], window=20).round(4)\n",
    "\n",
    "df.to_csv(\"batch_pipeline/storage/VCI.csv\")"
   ]
  },
  {
   "cell_type": "code",
   "execution_count": 19,
   "id": "1724c244",
   "metadata": {},
   "outputs": [
    {
     "name": "stdout",
     "output_type": "stream",
     "text": [
      "Không tìm thấy dữ liệu cho VCI.\n"
     ]
    }
   ],
   "source": [
    "from tenacity import RetryError\n",
    "import pandas as pd\n",
    "\n",
    "\n",
    "quote = Quote(symbol='VCI', source='VCI')\n",
    "\n",
    "try:\n",
    "    df = quote.history(start='2025-10-04', end='2025-10-05')\n",
    "        \n",
    "    print(\"Trích xuất dữ liệu thành công.\")\n",
    "\n",
    "except (ValueError, RetryError):\n",
    "    print(f\"Không tìm thấy dữ liệu cho VCI.\")\n",
    "    # tạo DataFrame rỗng có cấu trúc chuẩn\n",
    "    df = pd.DataFrame(columns=[\"time\", \"open\", \"high\", \"low\", \"close\", \"volume\"])"
   ]
  },
  {
   "cell_type": "code",
   "execution_count": 22,
   "id": "0bef3f76",
   "metadata": {},
   "outputs": [
    {
     "data": {
      "text/plain": [
       "0"
      ]
     },
     "execution_count": 22,
     "metadata": {},
     "output_type": "execute_result"
    }
   ],
   "source": [
    "len(df)"
   ]
  },
  {
   "cell_type": "code",
   "execution_count": null,
   "id": "ae421943",
   "metadata": {},
   "outputs": [],
   "source": [
    "def calculate_metrics(data):\n",
    "    last_close = data['close'].iloc[-1]\n",
    "    prev_close = data['close'].iloc[-2]\n",
    "    change = last_close - prev_close\n",
    "    pct_change = (change / prev_close) * 100\n",
    "    high = data['high'].max()\n",
    "    low = data['low'].min()\n",
    "    volume = data['volume'].sum()\n",
    "\n",
    "    return last_close, change, pct_change, high, low, volume"
   ]
  },
  {
   "cell_type": "code",
   "execution_count": 8,
   "id": "cf86fab2",
   "metadata": {},
   "outputs": [
    {
     "name": "stdout",
     "output_type": "stream",
     "text": [
      "Chưa có dữ liệu hiện tại\n"
     ]
    }
   ],
   "source": [
    "try:\n",
    "    last_close, change, pct_change, high, low, volume = calculate_metrics(df)\n",
    "except:\n",
    "    print(\"Chưa có dữ liệu hiện tại\")\n"
   ]
  },
  {
   "cell_type": "code",
   "execution_count": 57,
   "id": "819082d5",
   "metadata": {},
   "outputs": [],
   "source": [
    "listing = Listing(source='VCI')"
   ]
  },
  {
   "cell_type": "code",
   "execution_count": 58,
   "id": "c3ce3826",
   "metadata": {},
   "outputs": [
    {
     "data": {
      "text/html": [
       "<div>\n",
       "<style scoped>\n",
       "    .dataframe tbody tr th:only-of-type {\n",
       "        vertical-align: middle;\n",
       "    }\n",
       "\n",
       "    .dataframe tbody tr th {\n",
       "        vertical-align: top;\n",
       "    }\n",
       "\n",
       "    .dataframe thead th {\n",
       "        text-align: right;\n",
       "    }\n",
       "</style>\n",
       "<table border=\"1\" class=\"dataframe\">\n",
       "  <thead>\n",
       "    <tr style=\"text-align: right;\">\n",
       "      <th></th>\n",
       "      <th>symbol</th>\n",
       "      <th>organ_name</th>\n",
       "    </tr>\n",
       "  </thead>\n",
       "  <tbody>\n",
       "    <tr>\n",
       "      <th>0</th>\n",
       "      <td>YTC</td>\n",
       "      <td>Công ty Cổ phần Xuất nhập khẩu Y tế Thành phố ...</td>\n",
       "    </tr>\n",
       "    <tr>\n",
       "      <th>1</th>\n",
       "      <td>YEG</td>\n",
       "      <td>Công ty Cổ phần Tập đoàn Yeah1</td>\n",
       "    </tr>\n",
       "    <tr>\n",
       "      <th>2</th>\n",
       "      <td>YBM</td>\n",
       "      <td>Công ty Cổ phần Khoáng sản Công nghiệp Yên Bái</td>\n",
       "    </tr>\n",
       "    <tr>\n",
       "      <th>3</th>\n",
       "      <td>YBC</td>\n",
       "      <td>Công ty Cổ phần Xi măng và Khoáng sản Yên Bái</td>\n",
       "    </tr>\n",
       "    <tr>\n",
       "      <th>4</th>\n",
       "      <td>XPH</td>\n",
       "      <td>Công ty Cổ phần Xà phòng Hà Nội</td>\n",
       "    </tr>\n",
       "    <tr>\n",
       "      <th>...</th>\n",
       "      <td>...</td>\n",
       "      <td>...</td>\n",
       "    </tr>\n",
       "    <tr>\n",
       "      <th>1714</th>\n",
       "      <td>AAS</td>\n",
       "      <td>Công ty Cổ phần Chứng khoán SmartInvest</td>\n",
       "    </tr>\n",
       "    <tr>\n",
       "      <th>1715</th>\n",
       "      <td>AAM</td>\n",
       "      <td>Công ty Cổ Phần Thủy Sản MeKong</td>\n",
       "    </tr>\n",
       "    <tr>\n",
       "      <th>1716</th>\n",
       "      <td>AAH</td>\n",
       "      <td>Công ty Cổ phần Hợp Nhất</td>\n",
       "    </tr>\n",
       "    <tr>\n",
       "      <th>1717</th>\n",
       "      <td>AAA</td>\n",
       "      <td>Công ty Cổ phần Nhựa An Phát Xanh</td>\n",
       "    </tr>\n",
       "    <tr>\n",
       "      <th>1718</th>\n",
       "      <td>A32</td>\n",
       "      <td>Công ty Cổ phần 32</td>\n",
       "    </tr>\n",
       "  </tbody>\n",
       "</table>\n",
       "<p>1719 rows × 2 columns</p>\n",
       "</div>"
      ],
      "text/plain": [
       "     symbol                                         organ_name\n",
       "0       YTC  Công ty Cổ phần Xuất nhập khẩu Y tế Thành phố ...\n",
       "1       YEG                     Công ty Cổ phần Tập đoàn Yeah1\n",
       "2       YBM     Công ty Cổ phần Khoáng sản Công nghiệp Yên Bái\n",
       "3       YBC      Công ty Cổ phần Xi măng và Khoáng sản Yên Bái\n",
       "4       XPH                    Công ty Cổ phần Xà phòng Hà Nội\n",
       "...     ...                                                ...\n",
       "1714    AAS            Công ty Cổ phần Chứng khoán SmartInvest\n",
       "1715    AAM                    Công ty Cổ Phần Thủy Sản MeKong\n",
       "1716    AAH                           Công ty Cổ phần Hợp Nhất\n",
       "1717    AAA                  Công ty Cổ phần Nhựa An Phát Xanh\n",
       "1718    A32                                 Công ty Cổ phần 32\n",
       "\n",
       "[1719 rows x 2 columns]"
      ]
     },
     "execution_count": 58,
     "metadata": {},
     "output_type": "execute_result"
    }
   ],
   "source": [
    "listing.all_symbols()"
   ]
  },
  {
   "cell_type": "code",
   "execution_count": 59,
   "id": "bb0a3333",
   "metadata": {},
   "outputs": [],
   "source": [
    "symbol = listing.all_symbols()[['symbol']]"
   ]
  },
  {
   "cell_type": "code",
   "execution_count": 93,
   "id": "2f2a9997",
   "metadata": {},
   "outputs": [
    {
     "data": {
      "text/html": [
       "<div>\n",
       "<style scoped>\n",
       "    .dataframe tbody tr th:only-of-type {\n",
       "        vertical-align: middle;\n",
       "    }\n",
       "\n",
       "    .dataframe tbody tr th {\n",
       "        vertical-align: top;\n",
       "    }\n",
       "\n",
       "    .dataframe thead th {\n",
       "        text-align: right;\n",
       "    }\n",
       "</style>\n",
       "<table border=\"1\" class=\"dataframe\">\n",
       "  <thead>\n",
       "    <tr style=\"text-align: right;\">\n",
       "      <th></th>\n",
       "      <th>symbol</th>\n",
       "    </tr>\n",
       "  </thead>\n",
       "  <tbody>\n",
       "    <tr>\n",
       "      <th>0</th>\n",
       "      <td>YTC</td>\n",
       "    </tr>\n",
       "    <tr>\n",
       "      <th>1</th>\n",
       "      <td>YEG</td>\n",
       "    </tr>\n",
       "    <tr>\n",
       "      <th>2</th>\n",
       "      <td>YBM</td>\n",
       "    </tr>\n",
       "    <tr>\n",
       "      <th>3</th>\n",
       "      <td>YBC</td>\n",
       "    </tr>\n",
       "    <tr>\n",
       "      <th>4</th>\n",
       "      <td>XPH</td>\n",
       "    </tr>\n",
       "    <tr>\n",
       "      <th>...</th>\n",
       "      <td>...</td>\n",
       "    </tr>\n",
       "    <tr>\n",
       "      <th>1714</th>\n",
       "      <td>AAS</td>\n",
       "    </tr>\n",
       "    <tr>\n",
       "      <th>1715</th>\n",
       "      <td>AAM</td>\n",
       "    </tr>\n",
       "    <tr>\n",
       "      <th>1716</th>\n",
       "      <td>AAH</td>\n",
       "    </tr>\n",
       "    <tr>\n",
       "      <th>1717</th>\n",
       "      <td>AAA</td>\n",
       "    </tr>\n",
       "    <tr>\n",
       "      <th>1718</th>\n",
       "      <td>A32</td>\n",
       "    </tr>\n",
       "  </tbody>\n",
       "</table>\n",
       "<p>1719 rows × 1 columns</p>\n",
       "</div>"
      ],
      "text/plain": [
       "     symbol\n",
       "0       YTC\n",
       "1       YEG\n",
       "2       YBM\n",
       "3       YBC\n",
       "4       XPH\n",
       "...     ...\n",
       "1714    AAS\n",
       "1715    AAM\n",
       "1716    AAH\n",
       "1717    AAA\n",
       "1718    A32\n",
       "\n",
       "[1719 rows x 1 columns]"
      ]
     },
     "execution_count": 93,
     "metadata": {},
     "output_type": "execute_result"
    }
   ],
   "source": [
    "symbol"
   ]
  },
  {
   "cell_type": "code",
   "execution_count": 95,
   "id": "78d69d66",
   "metadata": {},
   "outputs": [
    {
     "name": "stdout",
     "output_type": "stream",
     "text": [
      "symbol\n"
     ]
    }
   ],
   "source": [
    "for i in symbol:\n",
    "    print(i)"
   ]
  },
  {
   "cell_type": "code",
   "execution_count": 60,
   "id": "bb9acf01",
   "metadata": {},
   "outputs": [],
   "source": [
    "symbol.to_csv('symbol.csv')"
   ]
  },
  {
   "cell_type": "code",
   "execution_count": 9,
   "id": "2e6aab0f",
   "metadata": {},
   "outputs": [
    {
     "data": {
      "text/html": [
       "<div>\n",
       "<style scoped>\n",
       "    .dataframe tbody tr th:only-of-type {\n",
       "        vertical-align: middle;\n",
       "    }\n",
       "\n",
       "    .dataframe tbody tr th {\n",
       "        vertical-align: top;\n",
       "    }\n",
       "\n",
       "    .dataframe thead th {\n",
       "        text-align: right;\n",
       "    }\n",
       "</style>\n",
       "<table border=\"1\" class=\"dataframe\">\n",
       "  <thead>\n",
       "    <tr style=\"text-align: right;\">\n",
       "      <th></th>\n",
       "      <th>symbol</th>\n",
       "      <th>exchange</th>\n",
       "      <th>type</th>\n",
       "      <th>organ_short_name</th>\n",
       "      <th>organ_name</th>\n",
       "      <th>product_grp_id</th>\n",
       "    </tr>\n",
       "  </thead>\n",
       "  <tbody>\n",
       "    <tr>\n",
       "      <th>0</th>\n",
       "      <td>YTC</td>\n",
       "      <td>UPCOM</td>\n",
       "      <td>STOCK</td>\n",
       "      <td>XNK Y tế TP.HCM</td>\n",
       "      <td>Công ty Cổ phần Xuất nhập khẩu Y tế Thành phố ...</td>\n",
       "      <td>UPX</td>\n",
       "    </tr>\n",
       "    <tr>\n",
       "      <th>1</th>\n",
       "      <td>YEG</td>\n",
       "      <td>HSX</td>\n",
       "      <td>STOCK</td>\n",
       "      <td>Tập đoàn Yeah1</td>\n",
       "      <td>Công ty Cổ phần Tập đoàn Yeah1</td>\n",
       "      <td>STO</td>\n",
       "    </tr>\n",
       "    <tr>\n",
       "      <th>2</th>\n",
       "      <td>YBM</td>\n",
       "      <td>HSX</td>\n",
       "      <td>STOCK</td>\n",
       "      <td>Khoáng sản CN Yên Bái</td>\n",
       "      <td>Công ty Cổ phần Khoáng sản Công nghiệp Yên Bái</td>\n",
       "      <td>STO</td>\n",
       "    </tr>\n",
       "    <tr>\n",
       "      <th>3</th>\n",
       "      <td>YBC</td>\n",
       "      <td>UPCOM</td>\n",
       "      <td>STOCK</td>\n",
       "      <td>Xi măng và Khoáng sản Yên Bái</td>\n",
       "      <td>Công ty Cổ phần Xi măng và Khoáng sản Yên Bái</td>\n",
       "      <td>UPX</td>\n",
       "    </tr>\n",
       "    <tr>\n",
       "      <th>4</th>\n",
       "      <td>XPH</td>\n",
       "      <td>UPCOM</td>\n",
       "      <td>STOCK</td>\n",
       "      <td>Xà phòng Hà Nội</td>\n",
       "      <td>Công ty Cổ phần Xà phòng Hà Nội</td>\n",
       "      <td>UPX</td>\n",
       "    </tr>\n",
       "    <tr>\n",
       "      <th>...</th>\n",
       "      <td>...</td>\n",
       "      <td>...</td>\n",
       "      <td>...</td>\n",
       "      <td>...</td>\n",
       "      <td>...</td>\n",
       "      <td>...</td>\n",
       "    </tr>\n",
       "    <tr>\n",
       "      <th>1714</th>\n",
       "      <td>CVPB2310</td>\n",
       "      <td>DELISTED</td>\n",
       "      <td>CW</td>\n",
       "      <td>CVPB2310 - Chứng quyền</td>\n",
       "      <td>CVPB2310 - Chứng quyền</td>\n",
       "      <td>None</td>\n",
       "    </tr>\n",
       "    <tr>\n",
       "      <th>1715</th>\n",
       "      <td>CVPB2309</td>\n",
       "      <td>DELISTED</td>\n",
       "      <td>CW</td>\n",
       "      <td>CVPB2309 - Chứng quyền</td>\n",
       "      <td>CVPB2309 - Chứng quyền</td>\n",
       "      <td>None</td>\n",
       "    </tr>\n",
       "    <tr>\n",
       "      <th>1716</th>\n",
       "      <td>CVPB2308</td>\n",
       "      <td>DELISTED</td>\n",
       "      <td>CW</td>\n",
       "      <td>CVPB2308 - Chứng quyền</td>\n",
       "      <td>CVPB2308 - Chứng quyền</td>\n",
       "      <td>None</td>\n",
       "    </tr>\n",
       "    <tr>\n",
       "      <th>1717</th>\n",
       "      <td>CVPB2307</td>\n",
       "      <td>DELISTED</td>\n",
       "      <td>CW</td>\n",
       "      <td>CVPB2307 - Chứng quyền</td>\n",
       "      <td>CVPB2307 - Chứng quyền</td>\n",
       "      <td>None</td>\n",
       "    </tr>\n",
       "    <tr>\n",
       "      <th>1718</th>\n",
       "      <td>CVPB2306</td>\n",
       "      <td>DELISTED</td>\n",
       "      <td>CW</td>\n",
       "      <td>CVPB2306 - Chứng quyền</td>\n",
       "      <td>CVPB2306 - Chứng quyền</td>\n",
       "      <td>None</td>\n",
       "    </tr>\n",
       "  </tbody>\n",
       "</table>\n",
       "<p>1719 rows × 6 columns</p>\n",
       "</div>"
      ],
      "text/plain": [
       "        symbol  exchange   type               organ_short_name  \\\n",
       "0          YTC     UPCOM  STOCK                XNK Y tế TP.HCM   \n",
       "1          YEG       HSX  STOCK                 Tập đoàn Yeah1   \n",
       "2          YBM       HSX  STOCK          Khoáng sản CN Yên Bái   \n",
       "3          YBC     UPCOM  STOCK  Xi măng và Khoáng sản Yên Bái   \n",
       "4          XPH     UPCOM  STOCK                Xà phòng Hà Nội   \n",
       "...        ...       ...    ...                            ...   \n",
       "1714  CVPB2310  DELISTED     CW         CVPB2310 - Chứng quyền   \n",
       "1715  CVPB2309  DELISTED     CW         CVPB2309 - Chứng quyền   \n",
       "1716  CVPB2308  DELISTED     CW         CVPB2308 - Chứng quyền   \n",
       "1717  CVPB2307  DELISTED     CW         CVPB2307 - Chứng quyền   \n",
       "1718  CVPB2306  DELISTED     CW         CVPB2306 - Chứng quyền   \n",
       "\n",
       "                                             organ_name product_grp_id  \n",
       "0     Công ty Cổ phần Xuất nhập khẩu Y tế Thành phố ...            UPX  \n",
       "1                        Công ty Cổ phần Tập đoàn Yeah1            STO  \n",
       "2        Công ty Cổ phần Khoáng sản Công nghiệp Yên Bái            STO  \n",
       "3         Công ty Cổ phần Xi măng và Khoáng sản Yên Bái            UPX  \n",
       "4                       Công ty Cổ phần Xà phòng Hà Nội            UPX  \n",
       "...                                                 ...            ...  \n",
       "1714                             CVPB2310 - Chứng quyền           None  \n",
       "1715                             CVPB2309 - Chứng quyền           None  \n",
       "1716                             CVPB2308 - Chứng quyền           None  \n",
       "1717                             CVPB2307 - Chứng quyền           None  \n",
       "1718                             CVPB2306 - Chứng quyền           None  \n",
       "\n",
       "[1719 rows x 6 columns]"
      ]
     },
     "execution_count": 9,
     "metadata": {},
     "output_type": "execute_result"
    }
   ],
   "source": [
    "listing.symbols_by_exchange().head(1719)"
   ]
  },
  {
   "cell_type": "code",
   "execution_count": 92,
   "id": "153da080",
   "metadata": {},
   "outputs": [
    {
     "data": {
      "text/html": [
       "<div>\n",
       "<style scoped>\n",
       "    .dataframe tbody tr th:only-of-type {\n",
       "        vertical-align: middle;\n",
       "    }\n",
       "\n",
       "    .dataframe tbody tr th {\n",
       "        vertical-align: top;\n",
       "    }\n",
       "\n",
       "    .dataframe thead th {\n",
       "        text-align: right;\n",
       "    }\n",
       "</style>\n",
       "<table border=\"1\" class=\"dataframe\">\n",
       "  <thead>\n",
       "    <tr style=\"text-align: right;\">\n",
       "      <th></th>\n",
       "      <th>time</th>\n",
       "      <th>open</th>\n",
       "      <th>high</th>\n",
       "      <th>low</th>\n",
       "      <th>close</th>\n",
       "      <th>volume</th>\n",
       "    </tr>\n",
       "  </thead>\n",
       "  <tbody>\n",
       "    <tr>\n",
       "      <th>0</th>\n",
       "      <td>2025-10-01</td>\n",
       "      <td>14.4</td>\n",
       "      <td>14.5</td>\n",
       "      <td>14.20</td>\n",
       "      <td>14.35</td>\n",
       "      <td>1646400</td>\n",
       "    </tr>\n",
       "    <tr>\n",
       "      <th>1</th>\n",
       "      <td>2025-10-02</td>\n",
       "      <td>14.5</td>\n",
       "      <td>14.6</td>\n",
       "      <td>14.15</td>\n",
       "      <td>14.20</td>\n",
       "      <td>1097200</td>\n",
       "    </tr>\n",
       "  </tbody>\n",
       "</table>\n",
       "</div>"
      ],
      "text/plain": [
       "        time  open  high    low  close   volume\n",
       "0 2025-10-01  14.4  14.5  14.20  14.35  1646400\n",
       "1 2025-10-02  14.5  14.6  14.15  14.20  1097200"
      ]
     },
     "execution_count": 92,
     "metadata": {},
     "output_type": "execute_result"
    }
   ],
   "source": [
    "from vnstock import Quote\n",
    "quote = Quote(symbol='YEG', source='VCI')\n",
    "\n",
    "quote.history(start='2025-10-01', end='2025-10-2')"
   ]
  },
  {
   "cell_type": "code",
   "execution_count": null,
   "id": "f3e6b917",
   "metadata": {},
   "outputs": [
    {
     "data": {
      "text/html": [
       "<div>\n",
       "<style scoped>\n",
       "    .dataframe tbody tr th:only-of-type {\n",
       "        vertical-align: middle;\n",
       "    }\n",
       "\n",
       "    .dataframe tbody tr th {\n",
       "        vertical-align: top;\n",
       "    }\n",
       "\n",
       "    .dataframe thead th {\n",
       "        text-align: right;\n",
       "    }\n",
       "</style>\n",
       "<table border=\"1\" class=\"dataframe\">\n",
       "  <thead>\n",
       "    <tr style=\"text-align: right;\">\n",
       "      <th></th>\n",
       "      <th>time</th>\n",
       "      <th>open</th>\n",
       "      <th>high</th>\n",
       "      <th>low</th>\n",
       "      <th>close</th>\n",
       "      <th>volume</th>\n",
       "    </tr>\n",
       "  </thead>\n",
       "  <tbody>\n",
       "    <tr>\n",
       "      <th>0</th>\n",
       "      <td>2025-10-02 09:15:00</td>\n",
       "      <td>14.50</td>\n",
       "      <td>14.50</td>\n",
       "      <td>14.50</td>\n",
       "      <td>14.50</td>\n",
       "      <td>17100</td>\n",
       "    </tr>\n",
       "    <tr>\n",
       "      <th>1</th>\n",
       "      <td>2025-10-02 09:16:00</td>\n",
       "      <td>14.45</td>\n",
       "      <td>14.50</td>\n",
       "      <td>14.45</td>\n",
       "      <td>14.50</td>\n",
       "      <td>9600</td>\n",
       "    </tr>\n",
       "    <tr>\n",
       "      <th>2</th>\n",
       "      <td>2025-10-02 09:17:00</td>\n",
       "      <td>14.50</td>\n",
       "      <td>14.55</td>\n",
       "      <td>14.50</td>\n",
       "      <td>14.50</td>\n",
       "      <td>9200</td>\n",
       "    </tr>\n",
       "    <tr>\n",
       "      <th>3</th>\n",
       "      <td>2025-10-02 09:18:00</td>\n",
       "      <td>14.55</td>\n",
       "      <td>14.55</td>\n",
       "      <td>14.50</td>\n",
       "      <td>14.50</td>\n",
       "      <td>44200</td>\n",
       "    </tr>\n",
       "    <tr>\n",
       "      <th>4</th>\n",
       "      <td>2025-10-02 09:19:00</td>\n",
       "      <td>14.50</td>\n",
       "      <td>14.55</td>\n",
       "      <td>14.50</td>\n",
       "      <td>14.55</td>\n",
       "      <td>13300</td>\n",
       "    </tr>\n",
       "    <tr>\n",
       "      <th>...</th>\n",
       "      <td>...</td>\n",
       "      <td>...</td>\n",
       "      <td>...</td>\n",
       "      <td>...</td>\n",
       "      <td>...</td>\n",
       "      <td>...</td>\n",
       "    </tr>\n",
       "    <tr>\n",
       "      <th>156</th>\n",
       "      <td>2025-10-02 14:26:00</td>\n",
       "      <td>14.20</td>\n",
       "      <td>14.20</td>\n",
       "      <td>14.15</td>\n",
       "      <td>14.20</td>\n",
       "      <td>41400</td>\n",
       "    </tr>\n",
       "    <tr>\n",
       "      <th>157</th>\n",
       "      <td>2025-10-02 14:27:00</td>\n",
       "      <td>14.15</td>\n",
       "      <td>14.15</td>\n",
       "      <td>14.15</td>\n",
       "      <td>14.15</td>\n",
       "      <td>16600</td>\n",
       "    </tr>\n",
       "    <tr>\n",
       "      <th>158</th>\n",
       "      <td>2025-10-02 14:28:00</td>\n",
       "      <td>14.15</td>\n",
       "      <td>14.15</td>\n",
       "      <td>14.15</td>\n",
       "      <td>14.15</td>\n",
       "      <td>13000</td>\n",
       "    </tr>\n",
       "    <tr>\n",
       "      <th>159</th>\n",
       "      <td>2025-10-02 14:29:00</td>\n",
       "      <td>14.15</td>\n",
       "      <td>14.15</td>\n",
       "      <td>14.10</td>\n",
       "      <td>14.15</td>\n",
       "      <td>12100</td>\n",
       "    </tr>\n",
       "    <tr>\n",
       "      <th>160</th>\n",
       "      <td>2025-10-02 14:45:00</td>\n",
       "      <td>14.00</td>\n",
       "      <td>14.00</td>\n",
       "      <td>14.00</td>\n",
       "      <td>14.00</td>\n",
       "      <td>292800</td>\n",
       "    </tr>\n",
       "  </tbody>\n",
       "</table>\n",
       "<p>161 rows × 6 columns</p>\n",
       "</div>"
      ],
      "text/plain": [
       "                   time   open   high    low  close  volume\n",
       "0   2025-10-02 09:15:00  14.50  14.50  14.50  14.50   17100\n",
       "1   2025-10-02 09:16:00  14.45  14.50  14.45  14.50    9600\n",
       "2   2025-10-02 09:17:00  14.50  14.55  14.50  14.50    9200\n",
       "3   2025-10-02 09:18:00  14.55  14.55  14.50  14.50   44200\n",
       "4   2025-10-02 09:19:00  14.50  14.55  14.50  14.55   13300\n",
       "..                  ...    ...    ...    ...    ...     ...\n",
       "156 2025-10-02 14:26:00  14.20  14.20  14.15  14.20   41400\n",
       "157 2025-10-02 14:27:00  14.15  14.15  14.15  14.15   16600\n",
       "158 2025-10-02 14:28:00  14.15  14.15  14.15  14.15   13000\n",
       "159 2025-10-02 14:29:00  14.15  14.15  14.10  14.15   12100\n",
       "160 2025-10-02 14:45:00  14.00  14.00  14.00  14.00  292800\n",
       "\n",
       "[161 rows x 6 columns]"
      ]
     },
     "execution_count": 106,
     "metadata": {},
     "output_type": "execute_result"
    }
   ],
   "source": [
    "quote = Quote(symbol='YEG', source='VCI')\n",
    "df = quote.history(start='2025-10-2', end='2025-10-3', interval='1m')\n",
    "\n",
    "df"
   ]
  },
  {
   "cell_type": "code",
   "execution_count": 91,
   "id": "da999ce3",
   "metadata": {},
   "outputs": [
    {
     "data": {
      "text/html": [
       "<div>\n",
       "<style scoped>\n",
       "    .dataframe tbody tr th:only-of-type {\n",
       "        vertical-align: middle;\n",
       "    }\n",
       "\n",
       "    .dataframe tbody tr th {\n",
       "        vertical-align: top;\n",
       "    }\n",
       "\n",
       "    .dataframe thead th {\n",
       "        text-align: right;\n",
       "    }\n",
       "</style>\n",
       "<table border=\"1\" class=\"dataframe\">\n",
       "  <thead>\n",
       "    <tr style=\"text-align: right;\">\n",
       "      <th></th>\n",
       "      <th>time</th>\n",
       "      <th>open</th>\n",
       "      <th>high</th>\n",
       "      <th>low</th>\n",
       "      <th>close</th>\n",
       "      <th>volume</th>\n",
       "    </tr>\n",
       "  </thead>\n",
       "  <tbody>\n",
       "    <tr>\n",
       "      <th>0</th>\n",
       "      <td>2025-10-02 09:15:00</td>\n",
       "      <td>14.50</td>\n",
       "      <td>14.50</td>\n",
       "      <td>14.50</td>\n",
       "      <td>14.50</td>\n",
       "      <td>17100</td>\n",
       "    </tr>\n",
       "    <tr>\n",
       "      <th>1</th>\n",
       "      <td>2025-10-02 09:16:00</td>\n",
       "      <td>14.45</td>\n",
       "      <td>14.50</td>\n",
       "      <td>14.45</td>\n",
       "      <td>14.50</td>\n",
       "      <td>9600</td>\n",
       "    </tr>\n",
       "    <tr>\n",
       "      <th>2</th>\n",
       "      <td>2025-10-02 09:17:00</td>\n",
       "      <td>14.50</td>\n",
       "      <td>14.55</td>\n",
       "      <td>14.50</td>\n",
       "      <td>14.50</td>\n",
       "      <td>9200</td>\n",
       "    </tr>\n",
       "    <tr>\n",
       "      <th>3</th>\n",
       "      <td>2025-10-02 09:18:00</td>\n",
       "      <td>14.55</td>\n",
       "      <td>14.55</td>\n",
       "      <td>14.50</td>\n",
       "      <td>14.50</td>\n",
       "      <td>44200</td>\n",
       "    </tr>\n",
       "    <tr>\n",
       "      <th>4</th>\n",
       "      <td>2025-10-02 09:19:00</td>\n",
       "      <td>14.50</td>\n",
       "      <td>14.55</td>\n",
       "      <td>14.50</td>\n",
       "      <td>14.55</td>\n",
       "      <td>13300</td>\n",
       "    </tr>\n",
       "    <tr>\n",
       "      <th>...</th>\n",
       "      <td>...</td>\n",
       "      <td>...</td>\n",
       "      <td>...</td>\n",
       "      <td>...</td>\n",
       "      <td>...</td>\n",
       "      <td>...</td>\n",
       "    </tr>\n",
       "    <tr>\n",
       "      <th>117</th>\n",
       "      <td>2025-10-02 13:38:00</td>\n",
       "      <td>14.35</td>\n",
       "      <td>14.35</td>\n",
       "      <td>14.35</td>\n",
       "      <td>14.35</td>\n",
       "      <td>45000</td>\n",
       "    </tr>\n",
       "    <tr>\n",
       "      <th>118</th>\n",
       "      <td>2025-10-02 13:39:00</td>\n",
       "      <td>14.30</td>\n",
       "      <td>14.30</td>\n",
       "      <td>14.30</td>\n",
       "      <td>14.30</td>\n",
       "      <td>2200</td>\n",
       "    </tr>\n",
       "    <tr>\n",
       "      <th>119</th>\n",
       "      <td>2025-10-02 13:40:00</td>\n",
       "      <td>14.30</td>\n",
       "      <td>14.30</td>\n",
       "      <td>14.30</td>\n",
       "      <td>14.30</td>\n",
       "      <td>1700</td>\n",
       "    </tr>\n",
       "    <tr>\n",
       "      <th>120</th>\n",
       "      <td>2025-10-02 13:41:00</td>\n",
       "      <td>14.30</td>\n",
       "      <td>14.30</td>\n",
       "      <td>14.30</td>\n",
       "      <td>14.30</td>\n",
       "      <td>5000</td>\n",
       "    </tr>\n",
       "    <tr>\n",
       "      <th>121</th>\n",
       "      <td>2025-10-02 13:42:00</td>\n",
       "      <td>14.30</td>\n",
       "      <td>14.30</td>\n",
       "      <td>14.30</td>\n",
       "      <td>14.30</td>\n",
       "      <td>2200</td>\n",
       "    </tr>\n",
       "  </tbody>\n",
       "</table>\n",
       "<p>122 rows × 6 columns</p>\n",
       "</div>"
      ],
      "text/plain": [
       "                   time   open   high    low  close  volume\n",
       "0   2025-10-02 09:15:00  14.50  14.50  14.50  14.50   17100\n",
       "1   2025-10-02 09:16:00  14.45  14.50  14.45  14.50    9600\n",
       "2   2025-10-02 09:17:00  14.50  14.55  14.50  14.50    9200\n",
       "3   2025-10-02 09:18:00  14.55  14.55  14.50  14.50   44200\n",
       "4   2025-10-02 09:19:00  14.50  14.55  14.50  14.55   13300\n",
       "..                  ...    ...    ...    ...    ...     ...\n",
       "117 2025-10-02 13:38:00  14.35  14.35  14.35  14.35   45000\n",
       "118 2025-10-02 13:39:00  14.30  14.30  14.30  14.30    2200\n",
       "119 2025-10-02 13:40:00  14.30  14.30  14.30  14.30    1700\n",
       "120 2025-10-02 13:41:00  14.30  14.30  14.30  14.30    5000\n",
       "121 2025-10-02 13:42:00  14.30  14.30  14.30  14.30    2200\n",
       "\n",
       "[122 rows x 6 columns]"
      ]
     },
     "execution_count": 91,
     "metadata": {},
     "output_type": "execute_result"
    }
   ],
   "source": [
    "df"
   ]
  },
  {
   "cell_type": "code",
   "execution_count": 85,
   "id": "46823ec9",
   "metadata": {},
   "outputs": [],
   "source": [
    "df.to_csv('YEG.csv')"
   ]
  },
  {
   "cell_type": "code",
   "execution_count": null,
   "id": "ba72d3d8",
   "metadata": {},
   "outputs": [
    {
     "data": {
      "text/html": [
       "<div>\n",
       "<style scoped>\n",
       "    .dataframe tbody tr th:only-of-type {\n",
       "        vertical-align: middle;\n",
       "    }\n",
       "\n",
       "    .dataframe tbody tr th {\n",
       "        vertical-align: top;\n",
       "    }\n",
       "\n",
       "    .dataframe thead th {\n",
       "        text-align: right;\n",
       "    }\n",
       "</style>\n",
       "<table border=\"1\" class=\"dataframe\">\n",
       "  <thead>\n",
       "    <tr style=\"text-align: right;\">\n",
       "      <th></th>\n",
       "      <th>symbol</th>\n",
       "    </tr>\n",
       "  </thead>\n",
       "  <tbody>\n",
       "    <tr>\n",
       "      <th>0</th>\n",
       "      <td>YTC</td>\n",
       "    </tr>\n",
       "    <tr>\n",
       "      <th>1</th>\n",
       "      <td>YEG</td>\n",
       "    </tr>\n",
       "    <tr>\n",
       "      <th>2</th>\n",
       "      <td>YBM</td>\n",
       "    </tr>\n",
       "    <tr>\n",
       "      <th>3</th>\n",
       "      <td>YBC</td>\n",
       "    </tr>\n",
       "    <tr>\n",
       "      <th>4</th>\n",
       "      <td>XPH</td>\n",
       "    </tr>\n",
       "    <tr>\n",
       "      <th>...</th>\n",
       "      <td>...</td>\n",
       "    </tr>\n",
       "    <tr>\n",
       "      <th>1714</th>\n",
       "      <td>AAS</td>\n",
       "    </tr>\n",
       "    <tr>\n",
       "      <th>1715</th>\n",
       "      <td>AAM</td>\n",
       "    </tr>\n",
       "    <tr>\n",
       "      <th>1716</th>\n",
       "      <td>AAH</td>\n",
       "    </tr>\n",
       "    <tr>\n",
       "      <th>1717</th>\n",
       "      <td>AAA</td>\n",
       "    </tr>\n",
       "    <tr>\n",
       "      <th>1718</th>\n",
       "      <td>A32</td>\n",
       "    </tr>\n",
       "  </tbody>\n",
       "</table>\n",
       "<p>1719 rows × 1 columns</p>\n",
       "</div>"
      ],
      "text/plain": [
       "     symbol\n",
       "0       YTC\n",
       "1       YEG\n",
       "2       YBM\n",
       "3       YBC\n",
       "4       XPH\n",
       "...     ...\n",
       "1714    AAS\n",
       "1715    AAM\n",
       "1716    AAH\n",
       "1717    AAA\n",
       "1718    A32\n",
       "\n",
       "[1719 rows x 1 columns]"
      ]
     },
     "execution_count": 87,
     "metadata": {},
     "output_type": "execute_result"
    }
   ],
   "source": [
    "symbol"
   ]
  },
  {
   "cell_type": "code",
   "execution_count": 11,
   "id": "35faf48b",
   "metadata": {},
   "outputs": [
    {
     "data": {
      "text/html": [
       "<div>\n",
       "<style scoped>\n",
       "    .dataframe tbody tr th:only-of-type {\n",
       "        vertical-align: middle;\n",
       "    }\n",
       "\n",
       "    .dataframe tbody tr th {\n",
       "        vertical-align: top;\n",
       "    }\n",
       "\n",
       "    .dataframe thead th {\n",
       "        text-align: right;\n",
       "    }\n",
       "</style>\n",
       "<table border=\"1\" class=\"dataframe\">\n",
       "  <thead>\n",
       "    <tr style=\"text-align: right;\">\n",
       "      <th></th>\n",
       "      <th>time</th>\n",
       "      <th>open</th>\n",
       "      <th>close</th>\n",
       "    </tr>\n",
       "  </thead>\n",
       "  <tbody>\n",
       "    <tr>\n",
       "      <th>0</th>\n",
       "      <td>2025-10-02</td>\n",
       "      <td>43.2</td>\n",
       "      <td>42.1</td>\n",
       "    </tr>\n",
       "  </tbody>\n",
       "</table>\n",
       "</div>"
      ],
      "text/plain": [
       "        time  open  close\n",
       "0 2025-10-02  43.2   42.1"
      ]
     },
     "execution_count": 11,
     "metadata": {},
     "output_type": "execute_result"
    }
   ],
   "source": [
    "quote = Quote(symbol='VCI', source='VCI')\n",
    "\n",
    "df = quote.history(start='2025-10-2', end='2025-10-3')\n",
    "\n",
    "df = df[['time', 'open', 'close']]\n",
    "\n",
    "df"
   ]
  },
  {
   "cell_type": "code",
   "execution_count": 27,
   "id": "7e5cb9c9",
   "metadata": {},
   "outputs": [
    {
     "data": {
      "text/plain": [
       "'2025'"
      ]
     },
     "execution_count": 27,
     "metadata": {},
     "output_type": "execute_result"
    }
   ],
   "source": [
    "df['time'].dt.strftime(\"%Y\").iloc[0]"
   ]
  },
  {
   "cell_type": "code",
   "execution_count": 86,
   "id": "9bd7493c",
   "metadata": {},
   "outputs": [
    {
     "ename": "ValueError",
     "evalue": "Symbol phải là một chuỗi.",
     "output_type": "error",
     "traceback": [
      "\u001b[31m---------------------------------------------------------------------------\u001b[39m",
      "\u001b[31mValueError\u001b[39m                                Traceback (most recent call last)",
      "\u001b[36mCell\u001b[39m\u001b[36m \u001b[39m\u001b[32mIn[86]\u001b[39m\u001b[32m, line 2\u001b[39m\n\u001b[32m      1\u001b[39m \u001b[38;5;28;01mfor\u001b[39;00m i \u001b[38;5;129;01min\u001b[39;00m symbol.values:\n\u001b[32m----> \u001b[39m\u001b[32m2\u001b[39m     quote = \u001b[43mQuote\u001b[49m\u001b[43m(\u001b[49m\u001b[43msymbol\u001b[49m\u001b[43m=\u001b[49m\u001b[43mi\u001b[49m\u001b[43m,\u001b[49m\u001b[43m \u001b[49m\u001b[43msource\u001b[49m\u001b[43m=\u001b[49m\u001b[33;43m'\u001b[39;49m\u001b[33;43mVCI\u001b[39;49m\u001b[33;43m'\u001b[39;49m\u001b[43m)\u001b[49m\n\u001b[32m      4\u001b[39m     quote.history(start=\u001b[33m'\u001b[39m\u001b[33m2025-10-2\u001b[39m\u001b[33m'\u001b[39m, end=\u001b[33m'\u001b[39m\u001b[33m2025-10-3\u001b[39m\u001b[33m'\u001b[39m, interval=\u001b[33m'\u001b[39m\u001b[33m1m\u001b[39m\u001b[33m'\u001b[39m)\n",
      "\u001b[36mFile \u001b[39m\u001b[32mc:\\Users\\kobhn\\AppData\\Local\\Programs\\Python\\Python311\\Lib\\site-packages\\vnstock\\api\\quote.py:36\u001b[39m, in \u001b[36mQuote.__init__\u001b[39m\u001b[34m(self, source, symbol, random_agent, show_log)\u001b[39m\n\u001b[32m     33\u001b[39m     \u001b[38;5;28;01mraise\u001b[39;00m \u001b[38;5;167;01mValueError\u001b[39;00m(\u001b[33m\"\u001b[39m\u001b[33mLớp Quote chỉ nhận giá trị tham số source là \u001b[39m\u001b[33m'\u001b[39m\u001b[33mVCI\u001b[39m\u001b[33m'\u001b[39m\u001b[33m hoặc \u001b[39m\u001b[33m'\u001b[39m\u001b[33mTCBS\u001b[39m\u001b[33m'\u001b[39m\u001b[33m hoặc \u001b[39m\u001b[33m'\u001b[39m\u001b[33mMSN\u001b[39m\u001b[33m'\u001b[39m\u001b[33m.\u001b[39m\u001b[33m\"\u001b[39m)\n\u001b[32m     34\u001b[39m \u001b[38;5;66;03m# BaseAdapter will discover vnstock.explorer.<real_source>.quote\u001b[39;00m\n\u001b[32m     35\u001b[39m \u001b[38;5;66;03m# and pass only the kwargs its __init__ accepts (symbol, random_agent, show_log).\u001b[39;00m\n\u001b[32m---> \u001b[39m\u001b[32m36\u001b[39m \u001b[38;5;28;43msuper\u001b[39;49m\u001b[43m(\u001b[49m\u001b[43m)\u001b[49m\u001b[43m.\u001b[49m\u001b[34;43m__init__\u001b[39;49m\u001b[43m(\u001b[49m\n\u001b[32m     37\u001b[39m \u001b[43m    \u001b[49m\u001b[43msource\u001b[49m\u001b[43m=\u001b[49m\u001b[43msource\u001b[49m\u001b[43m,\u001b[49m\n\u001b[32m     38\u001b[39m \u001b[43m    \u001b[49m\u001b[43msymbol\u001b[49m\u001b[43m=\u001b[49m\u001b[43msymbol\u001b[49m\u001b[43m,\u001b[49m\n\u001b[32m     39\u001b[39m \u001b[43m    \u001b[49m\u001b[43mrandom_agent\u001b[49m\u001b[43m=\u001b[49m\u001b[43mrandom_agent\u001b[49m\u001b[43m,\u001b[49m\n\u001b[32m     40\u001b[39m \u001b[43m    \u001b[49m\u001b[43mshow_log\u001b[49m\u001b[43m=\u001b[49m\u001b[43mshow_log\u001b[49m\n\u001b[32m     41\u001b[39m \u001b[43m\u001b[49m\u001b[43m)\u001b[49m\n",
      "\u001b[36mFile \u001b[39m\u001b[32mc:\\Users\\kobhn\\AppData\\Local\\Programs\\Python\\Python311\\Lib\\site-packages\\vnstock\\base.py:86\u001b[39m, in \u001b[36mBaseAdapter.__init__\u001b[39m\u001b[34m(self, source, symbol, **kwargs)\u001b[39m\n\u001b[32m     83\u001b[39m         init_kwargs[key] = val\n\u001b[32m     85\u001b[39m \u001b[38;5;66;03m# Instantiate the provider\u001b[39;00m\n\u001b[32m---> \u001b[39m\u001b[32m86\u001b[39m \u001b[38;5;28mself\u001b[39m._provider = \u001b[43mimpl_cls\u001b[49m\u001b[43m(\u001b[49m\u001b[43m*\u001b[49m\u001b[43m*\u001b[49m\u001b[43minit_kwargs\u001b[49m\u001b[43m)\u001b[49m\n",
      "\u001b[36mFile \u001b[39m\u001b[32mc:\\Users\\kobhn\\AppData\\Local\\Programs\\Python\\Python311\\Lib\\site-packages\\vnstock\\explorer\\vci\\quote.py:28\u001b[39m, in \u001b[36mQuote.__init__\u001b[39m\u001b[34m(self, symbol, random_agent, show_log)\u001b[39m\n\u001b[32m     27\u001b[39m \u001b[38;5;28;01mdef\u001b[39;00m\u001b[38;5;250m \u001b[39m\u001b[34m__init__\u001b[39m(\u001b[38;5;28mself\u001b[39m, symbol, random_agent=\u001b[38;5;28;01mFalse\u001b[39;00m, show_log=\u001b[38;5;28;01mTrue\u001b[39;00m):\n\u001b[32m---> \u001b[39m\u001b[32m28\u001b[39m     \u001b[38;5;28mself\u001b[39m.symbol = \u001b[43mvalidate_symbol\u001b[49m\u001b[43m(\u001b[49m\u001b[43msymbol\u001b[49m\u001b[43m)\u001b[49m\n\u001b[32m     29\u001b[39m     \u001b[38;5;28mself\u001b[39m.data_source = \u001b[33m'\u001b[39m\u001b[33mVCI\u001b[39m\u001b[33m'\u001b[39m\n\u001b[32m     30\u001b[39m     \u001b[38;5;28mself\u001b[39m._history = \u001b[38;5;28;01mNone\u001b[39;00m  \u001b[38;5;66;03m# Cache for historical data\u001b[39;00m\n",
      "\u001b[36mFile \u001b[39m\u001b[32mc:\\Users\\kobhn\\AppData\\Local\\Programs\\Python\\Python311\\Lib\\site-packages\\vnstock\\core\\utils\\validation.py:28\u001b[39m, in \u001b[36mvalidate_symbol\u001b[39m\u001b[34m(symbol, symbol_map)\u001b[39m\n\u001b[32m     26\u001b[39m     \u001b[38;5;28;01mraise\u001b[39;00m \u001b[38;5;167;01mValueError\u001b[39;00m(\u001b[33m\"\u001b[39m\u001b[33mSymbol không được để trống.\u001b[39m\u001b[33m\"\u001b[39m)\n\u001b[32m     27\u001b[39m \u001b[38;5;28;01mif\u001b[39;00m \u001b[38;5;129;01mnot\u001b[39;00m \u001b[38;5;28misinstance\u001b[39m(symbol, \u001b[38;5;28mstr\u001b[39m):\n\u001b[32m---> \u001b[39m\u001b[32m28\u001b[39m     \u001b[38;5;28;01mraise\u001b[39;00m \u001b[38;5;167;01mValueError\u001b[39;00m(\u001b[33m\"\u001b[39m\u001b[33mSymbol phải là một chuỗi.\u001b[39m\u001b[33m\"\u001b[39m)\n\u001b[32m     29\u001b[39m \u001b[38;5;28;01mif\u001b[39;00m \u001b[38;5;28mlen\u001b[39m(symbol) < \u001b[32m3\u001b[39m \u001b[38;5;129;01mor\u001b[39;00m \u001b[38;5;28mlen\u001b[39m(symbol) > \u001b[32m10\u001b[39m:\n\u001b[32m     30\u001b[39m     \u001b[38;5;28;01mraise\u001b[39;00m \u001b[38;5;167;01mValueError\u001b[39;00m(\u001b[33m\"\u001b[39m\u001b[33mSymbol phải có độ dài từ 3 đến 10 ký tự.\u001b[39m\u001b[33m\"\u001b[39m)\n",
      "\u001b[31mValueError\u001b[39m: Symbol phải là một chuỗi."
     ]
    }
   ],
   "source": [
    "for i in symbol.values:\n",
    "    quote = Quote(symbol=i, source='VCI')\n",
    "\n",
    "    quote.history(start='2025-10-2', end='2025-10-3', interval='1m')"
   ]
  },
  {
   "cell_type": "code",
   "execution_count": 44,
   "id": "c1ba4d6b",
   "metadata": {},
   "outputs": [],
   "source": [
    "import pandas as pd \n",
    "\n",
    "sb = pd.read_csv(\"batch_pipeline/symbol.csv\")\n",
    "\n",
    "sb = sb[[\"symbol\"]]"
   ]
  },
  {
   "cell_type": "code",
   "execution_count": 45,
   "id": "310189ce",
   "metadata": {},
   "outputs": [],
   "source": [
    "sb = sb.iloc[:, 0].tolist()\n"
   ]
  },
  {
   "cell_type": "code",
   "execution_count": 47,
   "id": "b827a04f",
   "metadata": {},
   "outputs": [
    {
     "name": "stdout",
     "output_type": "stream",
     "text": [
      "True\n"
     ]
    }
   ],
   "source": [
    "print('VCI' in sb)"
   ]
  },
  {
   "cell_type": "code",
   "execution_count": 3,
   "id": "0a0b1d5c",
   "metadata": {},
   "outputs": [
    {
     "data": {
      "text/plain": [
       "'2025-10-03'"
      ]
     },
     "execution_count": 3,
     "metadata": {},
     "output_type": "execute_result"
    }
   ],
   "source": [
    "from datetime import *\n",
    "\n",
    "today = date.today()\n",
    "\n",
    "today.strftime('%Y-%m-%d')"
   ]
  },
  {
   "cell_type": "code",
   "execution_count": 6,
   "id": "583c52b7",
   "metadata": {},
   "outputs": [
    {
     "data": {
      "text/plain": [
       "'2022-10-03'"
      ]
     },
     "execution_count": 6,
     "metadata": {},
     "output_type": "execute_result"
    }
   ],
   "source": [
    "from dateutil.relativedelta import relativedelta\n",
    "\n",
    "three_yrs_ago = datetime.now() - relativedelta(years=3)\n",
    "\n",
    "three_yrs_ago.strftime('%Y-%m-%d')"
   ]
  },
  {
   "cell_type": "code",
   "execution_count": 7,
   "id": "9f756d97",
   "metadata": {},
   "outputs": [
    {
     "data": {
      "text/plain": [
       "datetime.datetime(2025, 10, 3, 9, 1, 36, 260701)"
      ]
     },
     "execution_count": 7,
     "metadata": {},
     "output_type": "execute_result"
    }
   ],
   "source": [
    "datetime.now()"
   ]
  },
  {
   "cell_type": "code",
   "execution_count": 28,
   "id": "ee8c55af",
   "metadata": {},
   "outputs": [
    {
     "name": "stdout",
     "output_type": "stream",
     "text": [
      "0\n",
      "1\n",
      "2\n",
      "3\n",
      "4\n",
      "5\n",
      "6\n",
      "7\n",
      "8\n",
      "9\n"
     ]
    }
   ],
   "source": [
    "for i in range(10):\n",
    "    print(i)"
   ]
  },
  {
   "cell_type": "code",
   "execution_count": null,
   "id": "8abf0c4e",
   "metadata": {},
   "outputs": [],
   "source": [
    "def transform_data(df):\n",
    "    df = df[['time', 'open', 'close']]\n",
    "\n",
    "    return df\n",
    "\n",
    "def load_data(df, symbol):\n",
    "    df.to_csv(\"VCI.csv\", index=False)\n",
    "\n",
    "def extract_data():\n",
    "    today = date.today()\n",
    "    five_yrs_from_today = today - relativedelta(years=5)\n",
    "\n",
    "    quote = Quote(symbol='VCI', source='VCI')\n",
    "\n",
    "    df = quote.history(start=five_yrs_from_today.strftime('%Y-%m-%d'),\n",
    "                        end=today.strftime('%Y-%m-%d'))\n",
    "\n",
    "    transform_data(df)\n",
    "\n",
    "    load_data(df, 'VCI')\n",
    "\n",
    "\n",
    "extract_data()"
   ]
  },
  {
   "cell_type": "code",
   "execution_count": 48,
   "id": "d6d07f03",
   "metadata": {},
   "outputs": [],
   "source": [
    "quote = Quote(symbol='VCI', source='VCI')\n",
    "\n",
    "df = quote.history(start='2025-10-03',\n",
    "                    end='2025-10-04', interval='1m')"
   ]
  },
  {
   "cell_type": "code",
   "execution_count": 50,
   "id": "492e8cff",
   "metadata": {},
   "outputs": [],
   "source": [
    "df['time'] = df[\"time\"].dt.strftime(\"%H:%M\")"
   ]
  },
  {
   "cell_type": "code",
   "execution_count": 51,
   "id": "39aec789",
   "metadata": {},
   "outputs": [
    {
     "data": {
      "text/plain": [
       "0      09:15\n",
       "1      09:16\n",
       "2      09:17\n",
       "3      09:18\n",
       "4      09:19\n",
       "       ...  \n",
       "129    11:25\n",
       "130    11:26\n",
       "131    11:27\n",
       "132    11:28\n",
       "133    11:29\n",
       "Name: time, Length: 134, dtype: object"
      ]
     },
     "execution_count": 51,
     "metadata": {},
     "output_type": "execute_result"
    }
   ],
   "source": [
    "df['time']"
   ]
  },
  {
   "cell_type": "code",
   "execution_count": 54,
   "id": "e1d8ad85",
   "metadata": {},
   "outputs": [
    {
     "data": {
      "text/plain": [
       "time      09:15\n",
       "open       42.1\n",
       "high       42.1\n",
       "low        42.0\n",
       "close      42.0\n",
       "volume    77600\n",
       "Name: 0, dtype: object"
      ]
     },
     "execution_count": 54,
     "metadata": {},
     "output_type": "execute_result"
    }
   ],
   "source": [
    "df.iloc[0]"
   ]
  },
  {
   "cell_type": "code",
   "execution_count": 1,
   "id": "2d82d4de",
   "metadata": {},
   "outputs": [
    {
     "name": "stdout",
     "output_type": "stream",
     "text": [
      "Trích xuất dữ liệu thành công\n"
     ]
    }
   ],
   "source": [
    "from vnstock import Quote \n",
    "\n",
    "import pandas as pd \n",
    "from datetime import date\n",
    "\n",
    "from tenacity import RetryError\n",
    "import os \n",
    "import ta\n",
    "\n",
    "\n",
    "\n",
    "today = date.today()\n",
    "\n",
    "quote = Quote(symbol='VCI', source='VCI')\n",
    "\n",
    "try:\n",
    "    df = quote.history(start='2020-01-01',\n",
    "                        end=today.strftime('%Y-%m-%d'))\n",
    "    print(\"Trích xuất dữ liệu thành công\")\n",
    "\n",
    "except (ValueError, RetryError):\n",
    "    print(f\"Không tìm thấy dữ liệu cho {symbol}.\")\n",
    "    # tạo DataFrame rỗng có cấu trúc chuẩn\n",
    "    df = pd.DataFrame(columns=[\"time\", \"open\", \"high\", \"low\", \"close\", \"volume\"])\n",
    "    df['time'] = pd.Series([today.strftime('%Y-%m-%d')])\n",
    "    df['time'] = pd.to_datetime(df['time']) "
   ]
  },
  {
   "cell_type": "code",
   "execution_count": null,
   "id": "9aee5658",
   "metadata": {},
   "outputs": [
    {
     "data": {
      "text/plain": [
       "False"
      ]
     },
     "execution_count": 6,
     "metadata": {},
     "output_type": "execute_result"
    }
   ],
   "source": [
    "def check_legit_symbol(symbol):\n",
    "    symbols = pd.read_csv('symbol.csv')[[\"symbol\"]].iloc[:, 0].tolist()\n",
    "\n",
    "    return symbol in symbols\n",
    "\n",
    "\n",
    "\n",
    "\n"
   ]
  }
 ],
 "metadata": {
  "kernelspec": {
   "display_name": "Python 3",
   "language": "python",
   "name": "python3"
  },
  "language_info": {
   "codemirror_mode": {
    "name": "ipython",
    "version": 3
   },
   "file_extension": ".py",
   "mimetype": "text/x-python",
   "name": "python",
   "nbconvert_exporter": "python",
   "pygments_lexer": "ipython3",
   "version": "3.11.9"
  }
 },
 "nbformat": 4,
 "nbformat_minor": 5
}
