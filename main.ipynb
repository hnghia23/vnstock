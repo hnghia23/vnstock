{
 "cells": [
  {
   "cell_type": "code",
   "execution_count": 3,
   "id": "b70be662",
   "metadata": {},
   "outputs": [],
   "source": [
    "from vnstock import Quote\n",
    "from tenacity import RetryError\n",
    "from datetime import date, timedelta\n",
    "import pandas as pd\n",
    "import os\n",
    "\n",
    "\n",
    "# === Extract: lấy dữ liệu mới kể từ ngày cuối cùng trong file local ===\n",
    "# def extract_data(symbol, base_path=\"data/lake\", start_date=None):\n",
    "#     today = date.today()\n",
    "#     if start_date == None:\n",
    "#         start_date = \"2020-01-01\"\n",
    "\n",
    "#     # Nếu đã có file, đọc ngày cuối cùng để chỉ lấy incremental\n",
    "#     file_path = os.path.join(base_path, f\"{symbol}.csv\")\n",
    "#     if os.path.exists(file_path):\n",
    "#           # Get start_date from existed file \n",
    "#         try:\n",
    "#             existing_df = pd.read_csv(file_path)\n",
    "#             if not existing_df.empty:\n",
    "#                 last_date = pd.to_datetime(existing_df[\"time\"]).max()\n",
    "#                 start_date = (last_date + timedelta(days=1)).strftime(\"%Y-%m-%d\")\n",
    "#         except Exception as e:\n",
    "#             print(f\"Lỗi khi đọc file {symbol}.csv: {e}\")\n",
    "\n",
    "#     print(f\"{symbol}: trích dữ liệu từ {start_date} đến {today}\")\n",
    "#       # Call the API \n",
    "#     quote = Quote(symbol=symbol, source=\"VCI\")\n",
    "#     try:\n",
    "#         df = quote.history(start=start_date, end=today.strftime(\"%Y-%m-%d\"))\n",
    "#         print(f\"Trích xuất {len(df)} dòng mới cho {symbol}\")\n",
    "#     except (ValueError, RetryError):\n",
    "#         print(f\"Không tìm thấy dữ liệu cho {symbol}\")\n",
    "#         df = pd.DataFrame(columns=[\"time\", \"open\", \"high\", \"low\", \"close\", \"volume\"])\n",
    "\n",
    "#     return df"
   ]
  },
  {
   "cell_type": "code",
   "execution_count": 6,
   "id": "7b46d5cf",
   "metadata": {},
   "outputs": [],
   "source": [
    "path = os.path.join(\"data/lake\", \"AAH.csv\")\n",
    "if os.path.exists(path):\n",
    "    try:\n",
    "        existing_df = pd.read_csv(path)\n",
    "        if not existing_df.empty:\n",
    "            last_date = pd.to_datetime(existing_df[\"time\"]).max()\n",
    "            start_date = (last_date + timedelta(days=1)).strftime(\"%Y-%m-%d\")\n",
    "    except Exception as e:\n",
    "        print(f\"Lỗi khi đọc file AAH.csv: {e}\")\n",
    "\n"
   ]
  },
  {
   "cell_type": "code",
   "execution_count": 8,
   "id": "2526897b",
   "metadata": {},
   "outputs": [
    {
     "name": "stdout",
     "output_type": "stream",
     "text": [
      "2025-10-07 00:00:00\n",
      "2025-10-08\n"
     ]
    }
   ],
   "source": [
    "print(last_date)\n",
    "print(start_date)"
   ]
  },
  {
   "cell_type": "code",
   "execution_count": 4,
   "id": "f35281ae",
   "metadata": {},
   "outputs": [
    {
     "name": "stdout",
     "output_type": "stream",
     "text": [
      "Trích xuất 155 dòng mới cho AAH\n"
     ]
    }
   ],
   "source": [
    "\n",
    "\n",
    "today = date.today()\n",
    "\n",
    "quote = Quote(symbol='TNV', source=\"VCI\")\n",
    "try:\n",
    "    df = quote.history(start='2020-01-01', end=today.strftime(\"%Y-%m-%d\"))\n",
    "    print(f\"Trích xuất {len(df)} dòng mới cho AAH\")\n",
    "except (ValueError, RetryError):\n",
    "    print(f\"Không tìm thấy dữ liệu cho AAH\")\n",
    "    df = pd.DataFrame(columns=[\"time\", \"open\", \"high\", \"low\", \"close\", \"volume\"])"
   ]
  },
  {
   "cell_type": "code",
   "execution_count": 6,
   "id": "b55a00cd",
   "metadata": {},
   "outputs": [
    {
     "data": {
      "text/html": [
       "<div>\n",
       "<style scoped>\n",
       "    .dataframe tbody tr th:only-of-type {\n",
       "        vertical-align: middle;\n",
       "    }\n",
       "\n",
       "    .dataframe tbody tr th {\n",
       "        vertical-align: top;\n",
       "    }\n",
       "\n",
       "    .dataframe thead th {\n",
       "        text-align: right;\n",
       "    }\n",
       "</style>\n",
       "<table border=\"1\" class=\"dataframe\">\n",
       "  <thead>\n",
       "    <tr style=\"text-align: right;\">\n",
       "      <th></th>\n",
       "      <th>time</th>\n",
       "      <th>open</th>\n",
       "      <th>high</th>\n",
       "      <th>low</th>\n",
       "      <th>close</th>\n",
       "      <th>volume</th>\n",
       "    </tr>\n",
       "  </thead>\n",
       "  <tbody>\n",
       "    <tr>\n",
       "      <th>0</th>\n",
       "      <td>2025-02-06</td>\n",
       "      <td>12.4</td>\n",
       "      <td>12.4</td>\n",
       "      <td>12.4</td>\n",
       "      <td>12.4</td>\n",
       "      <td>100</td>\n",
       "    </tr>\n",
       "    <tr>\n",
       "      <th>1</th>\n",
       "      <td>2025-02-07</td>\n",
       "      <td>14.2</td>\n",
       "      <td>14.2</td>\n",
       "      <td>14.2</td>\n",
       "      <td>14.2</td>\n",
       "      <td>100</td>\n",
       "    </tr>\n",
       "    <tr>\n",
       "      <th>2</th>\n",
       "      <td>2025-02-10</td>\n",
       "      <td>16.3</td>\n",
       "      <td>16.3</td>\n",
       "      <td>16.3</td>\n",
       "      <td>16.3</td>\n",
       "      <td>400</td>\n",
       "    </tr>\n",
       "    <tr>\n",
       "      <th>3</th>\n",
       "      <td>2025-02-11</td>\n",
       "      <td>18.7</td>\n",
       "      <td>18.7</td>\n",
       "      <td>18.7</td>\n",
       "      <td>18.7</td>\n",
       "      <td>100</td>\n",
       "    </tr>\n",
       "    <tr>\n",
       "      <th>4</th>\n",
       "      <td>2025-02-12</td>\n",
       "      <td>21.5</td>\n",
       "      <td>21.5</td>\n",
       "      <td>21.5</td>\n",
       "      <td>21.5</td>\n",
       "      <td>100</td>\n",
       "    </tr>\n",
       "    <tr>\n",
       "      <th>...</th>\n",
       "      <td>...</td>\n",
       "      <td>...</td>\n",
       "      <td>...</td>\n",
       "      <td>...</td>\n",
       "      <td>...</td>\n",
       "      <td>...</td>\n",
       "    </tr>\n",
       "    <tr>\n",
       "      <th>150</th>\n",
       "      <td>2025-10-03</td>\n",
       "      <td>10.0</td>\n",
       "      <td>10.0</td>\n",
       "      <td>10.0</td>\n",
       "      <td>10.0</td>\n",
       "      <td>1000</td>\n",
       "    </tr>\n",
       "    <tr>\n",
       "      <th>151</th>\n",
       "      <td>2025-10-06</td>\n",
       "      <td>10.0</td>\n",
       "      <td>10.0</td>\n",
       "      <td>10.0</td>\n",
       "      <td>10.0</td>\n",
       "      <td>400</td>\n",
       "    </tr>\n",
       "    <tr>\n",
       "      <th>152</th>\n",
       "      <td>2025-10-07</td>\n",
       "      <td>10.0</td>\n",
       "      <td>10.3</td>\n",
       "      <td>10.0</td>\n",
       "      <td>10.2</td>\n",
       "      <td>3600</td>\n",
       "    </tr>\n",
       "    <tr>\n",
       "      <th>153</th>\n",
       "      <td>2025-10-09</td>\n",
       "      <td>10.3</td>\n",
       "      <td>10.6</td>\n",
       "      <td>10.3</td>\n",
       "      <td>10.6</td>\n",
       "      <td>600</td>\n",
       "    </tr>\n",
       "    <tr>\n",
       "      <th>154</th>\n",
       "      <td>2025-10-10</td>\n",
       "      <td>10.1</td>\n",
       "      <td>10.3</td>\n",
       "      <td>10.0</td>\n",
       "      <td>10.2</td>\n",
       "      <td>9200</td>\n",
       "    </tr>\n",
       "  </tbody>\n",
       "</table>\n",
       "<p>155 rows × 6 columns</p>\n",
       "</div>"
      ],
      "text/plain": [
       "          time  open  high   low  close  volume\n",
       "0   2025-02-06  12.4  12.4  12.4   12.4     100\n",
       "1   2025-02-07  14.2  14.2  14.2   14.2     100\n",
       "2   2025-02-10  16.3  16.3  16.3   16.3     400\n",
       "3   2025-02-11  18.7  18.7  18.7   18.7     100\n",
       "4   2025-02-12  21.5  21.5  21.5   21.5     100\n",
       "..         ...   ...   ...   ...    ...     ...\n",
       "150 2025-10-03  10.0  10.0  10.0   10.0    1000\n",
       "151 2025-10-06  10.0  10.0  10.0   10.0     400\n",
       "152 2025-10-07  10.0  10.3  10.0   10.2    3600\n",
       "153 2025-10-09  10.3  10.6  10.3   10.6     600\n",
       "154 2025-10-10  10.1  10.3  10.0   10.2    9200\n",
       "\n",
       "[155 rows x 6 columns]"
      ]
     },
     "execution_count": 6,
     "metadata": {},
     "output_type": "execute_result"
    }
   ],
   "source": [
    "df"
   ]
  },
  {
   "cell_type": "code",
   "execution_count": null,
   "id": "a073bc02",
   "metadata": {},
   "outputs": [
    {
     "name": "stdout",
     "output_type": "stream",
     "text": [
      "Không tìm thấy dữ liệu cho AAH\n"
     ]
    }
   ],
   "source": []
  },
  {
   "cell_type": "code",
   "execution_count": null,
   "id": "6c28ad59",
   "metadata": {},
   "outputs": [
    {
     "data": {
      "text/plain": [
       "0"
      ]
     },
     "execution_count": 18,
     "metadata": {},
     "output_type": "execute_result"
    }
   ],
   "source": []
  },
  {
   "cell_type": "code",
   "execution_count": 6,
   "id": "a5e895fd",
   "metadata": {},
   "outputs": [
    {
     "name": "stdout",
     "output_type": "stream",
     "text": [
      "VCI: trích dữ liệu từ 2025-10-10 đến 2025-10-29\n",
      "Trích xuất 14 dòng mới cho VCI\n",
      "Append 14 dòng mới vào VCI.parquet\n",
      "Upload thành công VCI.parquet lên MinIO ✅\n"
     ]
    }
   ],
   "source": [
    "from src.batch.etl_vnstock import extract_data, load_data_to_minio\n",
    "from minio import Minio \n",
    "from vnstock import Quote\n",
    "\n",
    "df_new = extract_data(\"VCI\", 'lake', start_date=\"2025-10-10\")\n",
    "\n",
    "minio_client = Minio(\n",
    "    \"localhost:9000\",\n",
    "    access_key=\"vnstock\",\n",
    "    secret_key=\"12345678\",\n",
    "    secure=False\n",
    ")\n",
    "\n",
    "load_data_to_minio(df_new, \"VCI\", minio_client, \"vnstock\", mode=\"append\")\n"
   ]
  }
 ],
 "metadata": {
  "kernelspec": {
   "display_name": "Python 3",
   "language": "python",
   "name": "python3"
  },
  "language_info": {
   "codemirror_mode": {
    "name": "ipython",
    "version": 3
   },
   "file_extension": ".py",
   "mimetype": "text/x-python",
   "name": "python",
   "nbconvert_exporter": "python",
   "pygments_lexer": "ipython3",
   "version": "3.11.9"
  }
 },
 "nbformat": 4,
 "nbformat_minor": 5
}
